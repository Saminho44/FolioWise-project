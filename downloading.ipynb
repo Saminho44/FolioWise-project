{
 "cells": [
  {
   "cell_type": "code",
   "execution_count": 65,
   "id": "3503afdc-3581-42df-b673-385f5a3881ca",
   "metadata": {},
   "outputs": [],
   "source": [
    "import pandas as pd\n",
    "import numpy as np\n",
    "from polygon import RESTClient\n",
    "from polygon.rest.models.indicators import (\n",
    "    SMAIndicatorResults,\n",
    "    EMAIndicatorResults,\n",
    "    RSIIndicatorResults,\n",
    "    MACDIndicatorResults,\n",
    ")"
   ]
  },
  {
   "cell_type": "markdown",
   "id": "03f8597e-1d86-41f9-b226-a04e5981cbc4",
   "metadata": {},
   "source": [
    "# Creating the list of s&p100 tickets"
   ]
  },
  {
   "cell_type": "code",
   "execution_count": 71,
   "id": "e416a1a0-4ccf-4660-b249-839cf3429d61",
   "metadata": {},
   "outputs": [],
   "source": [
    "df = pd.read_csv('snp100.csv', header=None)"
   ]
  },
  {
   "cell_type": "code",
   "execution_count": 72,
   "id": "95f8ef93-2caa-4200-9771-378d18f1b9eb",
   "metadata": {},
   "outputs": [],
   "source": [
    "snp100tickers = df[0]"
   ]
  },
  {
   "cell_type": "markdown",
   "id": "01717ca7-9ca1-4f3f-9906-c3b2160ea3db",
   "metadata": {},
   "source": [
    "# Create downloading function"
   ]
  },
  {
   "cell_type": "code",
   "execution_count": 77,
   "id": "c292445b-bf11-4ff1-8182-2932d44762ff",
   "metadata": {},
   "outputs": [],
   "source": [
    "client = RESTClient(DATA_KEY)\n",
    "\n",
    "def download_data(from_date, to_date, ticker, key):\n",
    "    '''Downloads trading data for each ticker for the giving\n",
    "    period in format Y-M-D and returns the Dataframe in the csv format'''\n",
    "    client = RESTClient(f\"{key}\")\n",
    "    aggs = []\n",
    "    for a in client.list_aggs(\n",
    "        f\"{ticker}\",\n",
    "        1,\n",
    "        \"day\",\n",
    "        f\"{from_date}\",\n",
    "        f\"{to_date}\",\n",
    "        limit=5000,\n",
    "        ):\n",
    "        aggs.append(a)\n",
    "# creating the basic dataframe\n",
    "    data = pd.DataFrame(aggs)\n",
    "# adding the columns with new features\n",
    "# 25 days simple moving average\n",
    "    sma25 = client.get_sma(\n",
    "        f\"{ticker}\",\n",
    "        timestamp_gte=f\"{from_date}\",\n",
    "        timestamp_lte=f\"{to_date}\",\n",
    "        window=25,\n",
    "        series_type='close',\n",
    "        limit=5000,\n",
    "        )\n",
    "    data['sma25'] = pd.DataFrame(sma25.values)['value']\n",
    "# 100 days simple moving average    \n",
    "    sma100 = client.get_sma(\n",
    "        f\"{ticker}\",\n",
    "        timestamp_gte=f\"{from_date}\",\n",
    "        timestamp_lte=f\"{to_date}\",\n",
    "        window=100,\n",
    "        series_type='close',\n",
    "        limit=5000,\n",
    "        )\n",
    "    data['sma100'] = pd.DataFrame(sma100.values)['value']\n",
    " # 200 days simple moving average    \n",
    "    sma200 = client.get_sma(\n",
    "        f\"{ticker}\",\n",
    "        timestamp_gte=f\"{from_date}\",\n",
    "        timestamp_lte=f\"{to_date}\",\n",
    "        window=200,\n",
    "        series_type='close',\n",
    "        limit=5000,\n",
    "        )\n",
    "    data['sma200'] = pd.DataFrame(sma200.values)['value']\n",
    " # 14 days relative strength index    \n",
    "    rsi = client.get_rsi(\n",
    "        f\"{ticker}\",\n",
    "        timestamp_gte=f\"{from_date}\",\n",
    "        timestamp_lte=f\"{to_date}\",\n",
    "        window=14,\n",
    "        series_type='close',\n",
    "        limit=5000,\n",
    "        )\n",
    "    data['rsi'] = pd.DataFrame(rsi.values)['value']\n",
    "# moving average convergence/divergence\n",
    "    macd = client.get_macd(\n",
    "        f\"{ticker}\",\n",
    "        timestamp_gte=f\"{from_date}\",\n",
    "        timestamp_lte=f\"{to_date}\",\n",
    "        short_window=12,\n",
    "        long_window=26,\n",
    "        signal_window=9,\n",
    "        series_type='close',\n",
    "        limit=5000,\n",
    "        )\n",
    "    data['macd'] = pd.DataFrame(macd.values)['value']\n",
    "# adding volatility column\n",
    "    # avg_price = np.sum(data['close'])/len(data['close'])\n",
    "    # data['volatility'] = np.sqrt(np.sum(data['close']-avg_price**2)/(len(data['close'])-1))   \n",
    "    return data.to_csv(f'raw_data/{ticker}.csv')"
   ]
  },
  {
   "cell_type": "code",
   "execution_count": 69,
   "id": "79f8ce54-0897-43a3-98a7-1c77bebbe7ee",
   "metadata": {},
   "outputs": [],
   "source": [
    "key= DATA_KEY"
   ]
  },
  {
   "cell_type": "code",
   "execution_count": 78,
   "id": "d9db22fc-b0f3-4a1c-b926-57fe79e90088",
   "metadata": {},
   "outputs": [],
   "source": [
    "for ticker in snp100tickers:\n",
    "    download_data('2018-08-28', '2023-08-28', ticker, key=key)"
   ]
  }
 ],
 "metadata": {
  "kernelspec": {
   "display_name": "Python 3 (ipykernel)",
   "language": "python",
   "name": "python3"
  },
  "language_info": {
   "codemirror_mode": {
    "name": "ipython",
    "version": 3
   },
   "file_extension": ".py",
   "mimetype": "text/x-python",
   "name": "python",
   "nbconvert_exporter": "python",
   "pygments_lexer": "ipython3",
   "version": "3.10.6"
  }
 },
 "nbformat": 4,
 "nbformat_minor": 5
}
