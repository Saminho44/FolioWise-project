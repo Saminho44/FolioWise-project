{
 "cells": [
  {
   "cell_type": "code",
   "execution_count": 2,
   "metadata": {},
   "outputs": [],
   "source": [
    "import pandas as pd\n",
    "import numpy as np\n",
    "import os\n",
    "from datetime import datetime, timedelta\n",
    "from polygon import RESTClient\n",
    "from polygon.rest.models.indicators import (\n",
    "    SMAIndicatorResults,\n",
    "    EMAIndicatorResults,\n",
    "    RSIIndicatorResults,\n",
    "    MACDIndicatorResults,\n",
    ")"
   ]
  },
  {
   "cell_type": "code",
   "execution_count": 3,
   "metadata": {},
   "outputs": [],
   "source": [
    "df = pd.read_csv('snp100.csv', header=None)\n",
    "snp100tickers = df[0]"
   ]
  },
  {
   "cell_type": "code",
   "execution_count": 4,
   "metadata": {},
   "outputs": [],
   "source": [
    "key = os.environ.get('API_KEY')"
   ]
  },
  {
   "cell_type": "code",
   "execution_count": 5,
   "metadata": {},
   "outputs": [],
   "source": [
    "client = RESTClient(key)\n",
    "\n",
    "def download_data(from_date, to_date, ticker, key):\n",
    "    '''Downloads trading data for each ticker for the giving\n",
    "    period in format Y-M-D and returns the Dataframe in the csv format'''\n",
    "    client = RESTClient(f\"{key}\")\n",
    "    aggs = []\n",
    "    for a in client.list_aggs(\n",
    "        f\"{ticker}\",\n",
    "        1,\n",
    "        \"day\",\n",
    "        f\"{from_date}\",\n",
    "        f\"{to_date}\",\n",
    "        limit=5000,\n",
    "        ):\n",
    "        aggs.append(a)\n",
    "# creating the basic dataframe\n",
    "    data = pd.DataFrame(aggs)\n",
    "# adding the columns with new features\n",
    "# 25 days simple moving average\n",
    "    sma25 = client.get_sma(\n",
    "        f\"{ticker}\",\n",
    "        timestamp_gte=f\"{from_date}\",\n",
    "        timestamp_lte=f\"{to_date}\",\n",
    "        window=25,\n",
    "        series_type='close',\n",
    "        limit=5000,\n",
    "        )\n",
    "    data_sma25 = pd.DataFrame(sma25.values)\n",
    "    data = pd.merge(data, data_sma25, on='timestamp', how='left').rename(columns={'value': 'sma25'})\n",
    "# 100 days simple moving average    \n",
    "    sma100 = client.get_sma(\n",
    "        f\"{ticker}\",\n",
    "        timestamp_gte=f\"{from_date}\",\n",
    "        timestamp_lte=f\"{to_date}\",\n",
    "        window=100,\n",
    "        series_type='close',\n",
    "        limit=5000,\n",
    "        )\n",
    "    data_sma100 = pd.DataFrame(sma100.values)\n",
    "    data = pd.merge(data, data_sma100, on='timestamp', how='left').rename(columns={'value':'sma100'})\n",
    " # 200 days simple moving average    \n",
    "    sma200 = client.get_sma(\n",
    "        f\"{ticker}\",\n",
    "        timestamp_gte=f\"{from_date}\",\n",
    "        timestamp_lte=f\"{to_date}\",\n",
    "        window=200,\n",
    "        series_type='close',\n",
    "        limit=5000,\n",
    "        )\n",
    "    data_sma200 = pd.DataFrame(sma200.values)    \n",
    "    data = pd.merge(data, data_sma200, on='timestamp', how='left').rename(columns={'value':'sma200'})\n",
    " # 14 days relative strength index    \n",
    "    rsi = client.get_rsi(\n",
    "        f\"{ticker}\",\n",
    "        timestamp_gte=f\"{from_date}\",\n",
    "        timestamp_lte=f\"{to_date}\",\n",
    "        window=14,\n",
    "        series_type='close',\n",
    "        limit=5000,\n",
    "        )\n",
    "    data_rsi = pd.DataFrame(rsi.values)    \n",
    "    data = pd.merge(data, data_rsi, on='timestamp', how='left').rename(columns={'value': 'rsi'})\n",
    "# moving average convergence/divergence\n",
    "    macd = client.get_macd(\n",
    "        f\"{ticker}\",\n",
    "        timestamp_gte=f\"{from_date}\",\n",
    "        timestamp_lte=f\"{to_date}\",\n",
    "        short_window=12,\n",
    "        long_window=26,\n",
    "        signal_window=9,\n",
    "        series_type='close',\n",
    "        limit=5000,\n",
    "        )\n",
    "    data_macd = pd.DataFrame(macd.values)    \n",
    "    data = pd.merge(data, data_macd, on='timestamp', how='left').rename(columns={'value':'macd'})\n",
    "# adding volatility column\n",
    "    # avg_price = np.sum(data['close'])/len(data['close'])\n",
    "    # data['volatility'] = np.sqrt(np.sum(data['close']-avg_price**2)/(len(data['close'])-1))   \n",
    "    return data.to_csv(f'raw_data/{ticker}.csv')"
   ]
  },
  {
   "cell_type": "code",
   "execution_count": 6,
   "metadata": {},
   "outputs": [],
   "source": [
    "for ticker in snp100tickers:\n",
    "    download_data('2018-08-30', '2023-08-30', ticker, key=key)"
   ]
  }
 ],
 "metadata": {
  "kernelspec": {
   "display_name": "FolioWise-project",
   "language": "python",
   "name": "python3"
  },
  "language_info": {
   "codemirror_mode": {
    "name": "ipython",
    "version": 3
   },
   "file_extension": ".py",
   "mimetype": "text/x-python",
   "name": "python",
   "nbconvert_exporter": "python",
   "pygments_lexer": "ipython3",
   "version": "3.10.6"
  },
  "orig_nbformat": 4
 },
 "nbformat": 4,
 "nbformat_minor": 2
}
